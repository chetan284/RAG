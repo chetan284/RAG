{
 "cells": [
  {
   "cell_type": "code",
   "execution_count": null,
   "metadata": {},
   "outputs": [],
   "source": [
    "import os\n",
    "import sys\n",
    "import constants\n",
    "\n",
    "os.environ[\"OPENAI_API_KEY\"] = constants.OPENAI_KEY\n",
    "\n",
    "from langchain_openai import OpenAIEmbeddings\n",
    "from langchain.evaluation import load_evaluator\n",
    "\n",
    "\n",
    "embedding_function = OpenAIEmbeddings()\n",
    "vector = embedding_function.embed_query(\"apple\")\n",
    "print(f\"Vector for 'apple': {vector}\")\n",
    "print(f\"Vector length: {len(vector)}\")\n",
    "# Compare vector of two words\n",
    "evaluator = load_evaluator(\"pairwise_embedding_distance\")\n",
    "# words = (\"apple\", \"orange\")\n",
    "# words = (\"apple\", \"apple\")\n",
    "words = (\"apple\", \"iphone\")\n",
    "x = evaluator.evaluate_string_pairs(prediction=words[0], prediction_b=words[1])\n",
    "print()\n",
    "print(f\"Comparing ({words[0]}, {words[1]}): {x}\")"
   ]
  }
 ],
 "metadata": {
  "kernelspec": {
   "display_name": "rag",
   "language": "python",
   "name": "python3"
  },
  "language_info": {
   "codemirror_mode": {
    "name": "ipython",
    "version": 3
   },
   "file_extension": ".py",
   "mimetype": "text/x-python",
   "name": "python",
   "nbconvert_exporter": "python",
   "pygments_lexer": "ipython3",
   "version": "3.11.9"
  }
 },
 "nbformat": 4,
 "nbformat_minor": 2
}
