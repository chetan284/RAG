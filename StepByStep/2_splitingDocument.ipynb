{
 "cells": [
  {
   "cell_type": "code",
   "execution_count": 2,
   "metadata": {},
   "outputs": [
    {
     "name": "stdout",
     "output_type": "stream",
     "text": [
      "-----LOADING------\n",
      "-----SPLITTING------\n",
      "Split 1 documents into 105 chunks.\n",
      "page_content='PHONE: +1 (212) 220-1477\\n\\nDr. Azhar is a Professor of Computer Information Systems at CUNY BMCC.' metadata={'source': '/Users/Chetan/PycharmProjects/RAG/Data/input.md', 'start_index': 380}\n"
     ]
    }
   ],
   "source": [
    "import os\n",
    "import sys\n",
    "\n",
    "# Importing document loaders and parsers\n",
    "from langchain_community.document_loaders import DirectoryLoader, TextLoader\n",
    "from langchain_community.document_loaders.generic import GenericLoader\n",
    "from langchain_community.document_loaders.parsers import LanguageParser\n",
    "\n",
    "# Importing text splitter\n",
    "from langchain_text_splitters import RecursiveCharacterTextSplitter\n",
    "from langchain_text_splitters import Language\n",
    "\n",
    "# Setting the directory path\n",
    "DIRECTORY_PATH = \"/Users/Chetan/PycharmProjects/RAG/Data\"\n",
    "\n",
    "# -------------------------------------------------------------------------------------------------------------\n",
    "# Loading documents from the specified directory\n",
    "# Keyword arguments for text loader\n",
    "text_loader_kwargs = {'autodetect_encoding': True}\n",
    "\n",
    "# Create a DirectoryLoader instance\n",
    "directory_loader = DirectoryLoader(DIRECTORY_PATH, glob=\"./*.md\", loader_cls=TextLoader, loader_kwargs=text_loader_kwargs)\n",
    "\n",
    "# Load documents from the directory\n",
    "directory_documents = directory_loader.load()\n",
    "\n",
    "# -------------------------------------------------------------------------------------------------------------\n",
    "# Splitting loaded documents into smaller chunks\n",
    "print(\"-----SPLITTING------\")\n",
    "\n",
    "# Create a RecursiveCharacterTextSplitter instance\n",
    "text_splitter = RecursiveCharacterTextSplitter(\n",
    "    chunk_size=100,\n",
    "    chunk_overlap=10,\n",
    "    length_function=len,\n",
    "    add_start_index=True,\n",
    ")\n",
    "\n",
    "# Split documents into chunks\n",
    "chunks = text_splitter.split_documents(directory_documents)\n",
    "print(f\"Split {len(directory_documents)} documents into {len(chunks)} chunks.\")\n",
    "print(chunks[5])\n"
   ]
  }
 ],
 "metadata": {
  "kernelspec": {
   "display_name": "rag",
   "language": "python",
   "name": "python3"
  },
  "language_info": {
   "codemirror_mode": {
    "name": "ipython",
    "version": 3
   },
   "file_extension": ".py",
   "mimetype": "text/x-python",
   "name": "python",
   "nbconvert_exporter": "python",
   "pygments_lexer": "ipython3",
   "version": "3.11.9"
  }
 },
 "nbformat": 4,
 "nbformat_minor": 2
}
