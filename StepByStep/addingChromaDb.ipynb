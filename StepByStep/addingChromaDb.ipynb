{
 "cells": [
  {
   "cell_type": "code",
   "execution_count": 1,
   "metadata": {},
   "outputs": [
    {
     "name": "stdout",
     "output_type": "stream",
     "text": [
      "-----LOADING------\n",
      "-----SPLITTING------\n",
      "Split 1 documents into 105 chunks.\n",
      "-----CHROMA DB------\n",
      "tags=['Chroma', 'GPT4AllEmbeddings'] vectorstore=<langchain_chroma.vectorstores.Chroma object at 0x123e4c310> search_type='mmr' search_kwargs={'k': 8}\n"
     ]
    }
   ],
   "source": [
    "import os\n",
    "import sys\n",
    "\n",
    "# Importing document loaders and parsers\n",
    "from langchain_community.document_loaders import DirectoryLoader, TextLoader\n",
    "from langchain_community.document_loaders.generic import GenericLoader\n",
    "from langchain_community.document_loaders.parsers import LanguageParser\n",
    "\n",
    "# Importing text splitter\n",
    "from langchain_text_splitters import RecursiveCharacterTextSplitter\n",
    "from langchain_text_splitters import Language\n",
    "\n",
    "# Setting the directory path\n",
    "DIRECTORY_PATH = \"/Users/Chetan/PycharmProjects/RAG/Data\"\n",
    "\n",
    "# -------------------------------------------------------------------------------------------------------------\n",
    "# Loading documents from the specified directory\n",
    "print(\"-----LOADING------\")\n",
    "\n",
    "# Keyword arguments for text loader\n",
    "text_loader_kwargs = {'autodetect_encoding': True}\n",
    "\n",
    "# Create a DirectoryLoader instance\n",
    "directory_loader = DirectoryLoader(DIRECTORY_PATH, glob=\"./*.md\", loader_cls=TextLoader, loader_kwargs=text_loader_kwargs)\n",
    "\n",
    "# Load documents from the directory\n",
    "directory_documents = directory_loader.load()\n",
    "\n",
    "# -------------------------------------------------------------------------------------------------------------\n",
    "# Splitting loaded documents into smaller chunks\n",
    "print(\"-----SPLITTING------\")\n",
    "\n",
    "# Create a RecursiveCharacterTextSplitter instance\n",
    "text_splitter = RecursiveCharacterTextSplitter(\n",
    "    chunk_size=100,\n",
    "    chunk_overlap=10,\n",
    "    length_function=len,\n",
    "    add_start_index=True,\n",
    ")\n",
    "\n",
    "# Split documents into chunks\n",
    "chunks = text_splitter.split_documents(directory_documents)\n",
    "print(f\"Split {len(directory_documents)} documents into {len(chunks)} chunks.\")\n",
    "\n",
    "# -------------------------------------------------------------------------------------------------------------\n",
    "# Creating a Chroma database from the chunks\n",
    "print(\"-----CHROMA DB------\")\n",
    "from langchain_chroma import Chroma\n",
    "from langchain_community.embeddings import GPT4AllEmbeddings\n",
    "\n",
    "# Create GPT4AllEmbeddings instance\n",
    "gpt4all_embd = GPT4AllEmbeddings()\n",
    "\n",
    "# Create Chroma database from chunks\n",
    "db = Chroma.from_documents(chunks, gpt4all_embd)\n",
    "\n",
    "# Create a retriever for the database\n",
    "# Maximum marginal relevance search (MMR)\n",
    "# The \"k\" parameter specifies the number of top results to retrieve from the database.\n",
    "retriever = db.as_retriever(\n",
    "    search_type=\"mmr\",\n",
    "    search_kwargs={\"k\": 8},\n",
    ")\n",
    "print(retriever)\n"
   ]
  }
 ],
 "metadata": {
  "kernelspec": {
   "display_name": "rag",
   "language": "python",
   "name": "python3"
  },
  "language_info": {
   "codemirror_mode": {
    "name": "ipython",
    "version": 3
   },
   "file_extension": ".py",
   "mimetype": "text/x-python",
   "name": "python",
   "nbconvert_exporter": "python",
   "pygments_lexer": "ipython3",
   "version": "3.11.9"
  }
 },
 "nbformat": 4,
 "nbformat_minor": 2
}
