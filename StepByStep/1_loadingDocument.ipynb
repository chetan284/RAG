{
 "cells": [
  {
   "cell_type": "code",
   "execution_count": null,
   "metadata": {},
   "outputs": [],
   "source": [
    "\n",
    "import os\n",
    "import sys\n",
    "\n",
    "# Importing document loaders and parsers\n",
    "from langchain_community.document_loaders import DirectoryLoader, TextLoader\n",
    "from langchain_community.document_loaders.generic import GenericLoader\n",
    "\n",
    "\n",
    "# Setting the directory path\n",
    "DIRECTORY_PATH = \"/Users/Chetan/PycharmProjects/RAG/Data\"\n",
    "\n",
    "# -------------------------------------------------------------------------------------------------------------\n",
    "# Loading documents from the specified directory\n",
    "\n",
    "# Keyword arguments for text loader\n",
    "text_loader_kwargs = {'autodetect_encoding': True}\n",
    "\n",
    "# Create a DirectoryLoader instance\n",
    "directory_loader = DirectoryLoader(DIRECTORY_PATH, glob=\"./*.md\", loader_cls=TextLoader, loader_kwargs=text_loader_kwargs)\n",
    "\n",
    "# Load documents from the directory\n",
    "directory_documents = directory_loader.load()\n",
    "print(directory_documents)\n",
    "\n",
    "\n",
    "# Want to load code ?\n",
    "# Load\n",
    "from langchain_community.document_loaders.parsers import LanguageParser\n",
    "from langchain_text_splitters import Language\n",
    "\n",
    "repo_path = \"/Users/Chetan/PycharmProjects/langchain\"\n",
    "loader = GenericLoader.from_filesystem(\n",
    "    repo_path + \"/libs/core/langchain_core\",\n",
    "    glob=\"**/*\",\n",
    "    suffixes=[\".py\"],\n",
    "    exclude=[\"**/non-utf8-encoding.py\"],\n",
    "    parser=LanguageParser(language=Language.PYTHON, parser_threshold=500),\n",
    ")\n",
    "documents = loader.load()\n",
    "len(documents)\n"
   ]
  }
 ],
 "metadata": {
  "kernelspec": {
   "display_name": "rag",
   "language": "python",
   "name": "python3"
  },
  "language_info": {
   "codemirror_mode": {
    "name": "ipython",
    "version": 3
   },
   "file_extension": ".py",
   "mimetype": "text/x-python",
   "name": "python",
   "nbconvert_exporter": "python",
   "pygments_lexer": "ipython3",
   "version": "3.11.9"
  }
 },
 "nbformat": 4,
 "nbformat_minor": 2
}
