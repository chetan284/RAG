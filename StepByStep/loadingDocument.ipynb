{
 "cells": [
  {
   "cell_type": "code",
   "execution_count": 5,
   "metadata": {},
   "outputs": [
    {
     "name": "stdout",
     "output_type": "stream",
     "text": [
      "[Document(page_content='Select Language\\u200b▼\\nBMCC Start Here. Go Anywhere.\\nA-Z Index Directory Library Donate to BMCC\\nSearch …\\nSearch\\nAbout BMCCAdmissionsAcademicsServicesThe HeightsContinuing EdStudentsFaculty/StaffAlumniLOG IN\\nHomeFacultyMohammad Azhar\\nMohammad Azhar\\nPicture of Mohammad  Q.  Azhar, Ph.D\\n\\nProfessor\\nComputer Information Systems\\nEMAIL: MAZHAR@bmcc.cuny.edu\\n\\nOFFICE: F-930L\\n\\nOFFICE HOURS:\\n\\nPHONE: +1 (212) 220-1477\\n\\nDr. Azhar is a Professor of Computer Information Systems at CUNY BMCC.\\n\\nHis current research focuses on human-robot collaboration for assistive robotics, Artificial Intelligence, cybersecurity education, and educational robotics. Over the past decade, Dr. Azhar has organized and taught numerous teacher training workshops for Educational Robotics programs, after-school robotics clubs, and robotics competitions for students. He is passionate about involving undergraduate and K-12 students in solving robotics problems and participating in robotics research, and competitions that can help them understand the potential of robotics in the real world. His ultimate goal is to prepare next-generation students to tackle problems in AI, Robotics, and Cyber Security, so they can excel in problem-solving and join teams that design next-generation robots and secure digital environments to make our lives better.\\n\\nExpertise\\nHuman-Robot Collaboration, Assistive Robotics, Artificial Intelligence,  Educational Robotics, and Cyber Security Education.\\n\\nPersonal Web page\\n\\nDegrees\\nPh.D. Graduate Center, The City University Of New York, Computer Science,\\nCourses Taught\\n\\n3 CRS.2 HRS.3 LAB HRS.CSC 211CSC 211 (Advanced Programming Techniques)\\n\\n3 CRS.2 HRS.3 LAB HRS.CIS 455CIS 455 (Network Security)\\n\\n3 CRS.2 HRS.2 LAB HRS.CSC 101CSC 101 (Principles in Information Technology and Computation)\\n\\n3 CRS.2 HRS.3 LAB HRS.CSC 210CSC 210 (Computer Programming II)\\n\\n\\n3 CRS.4 HRS.NULL LAB HRS.CSC 330CSC 330 (Data Structures I)\\n\\n\\n4 CRS.3 HRS.2 LAB HRS.CIS 155CIS 155 (Computer Hardware)\\n\\n3 CRS.2 HRS.3 LAB HRS.CIS 445CIS 445 (Telecommunications Networks II / LAN)\\n\\nResearch and Projects\\nResearch Projects:\\n\\nAssistive Robotics\\nASD Research Group  (CRSP Research Demo)\\nService Robot (Demo)\\nEducational Robotics\\nCyber Security and Cybersecurity Education\\nComputer Science Education\\n Grant Projects:\\n\\nTechnology Oriented Learning Communities to deliver a 21st Century Education in an UrbanHSI Community College, 2020 GANAS Mini-grant,PI, (2020)\\nCUNY Course Innovation Grant, Collaboration with IBM, PI (2019-2020)\\nCyberSecurity in Robotics, PSC-CUNY Award, PI (2019-2020)\\nBMCC Gateway Initiative III: Teaching As Research, PI (2018-2019)\\nBMCC Make-a-thon Academy, Computer Information Systems Department, BMCC Perkins Sub Grant (2019)\\nWomen in Technology Grant, Co-PI,  2018-2019.\\nHispanic-Serving Institutions STEM (HSI STEM) and Articulation Program Title III, BMCCDigital Pathways Project, Co-Activity Outreach Director, 2016-2021.\\nNSF Fostering Student Success in Cybersecurity and Information Assurance, Co-PI, NSF ATE Award #1601401, 2016- 2020.\\nMinority Science Engineering Improvement Program (MSEIP): Institutional Project Retentionand Improvements in STEM Education (RISE), Co-PI, 2015-2018.\\nCS4HS Google Grant, College of Staten Island, The City University Of New York, Senior Personnel, Summer 2013\\nPublications\\nSelected Publications:\\n\\nMohammad Q. Azhar, Weida Jiang, and Natan Schattner-Elmaleh. 2021. Collaboration EducationSuite for Children with ASD. In Companion of the 2021 ACM/IEEE International Conference on Human-Robot Interaction (HRI ’21 Companion). Association for Computing Machinery, New York, NY, USA\\nSumya Hoque, Stacey Rodriguez, Mohammad Azhar. 2021. COVID-19 Mental Health AI and RobotAssistant. In Proceedings of the 52nd ACM Technical Symposium on Computer Science Education(SIGCSE ’21). Association for Computing Machinery, New York, NY, USA,\\nJillian Powers and Mohammad Azhar. Preparing Teachers to Engage Students in ComputationalThinking through an Introductory Robot Design Activity. Journal of Computers in Mathematics and Science Teaching 39, no. 1: pp. 49-70. 2020.\\nAnkur Chattopadhyay, and Mohammad Q. Azhar. Program Cozmo to EnhanceCS0/CS1 Learning of Secure Coding. In Proceedings of the 51st ACM Technical Symposium on Computer Science Education (SIGCSE ’20). ACM, New York, NY, USA, 2020.\\nMountrouidou, Xenia, David Vosen, Chadi Kari, Mohammad Q. Azhar, Sajal Bhatia, Greg Gagne, Joseph Maguire, Liviana Tudor, and Timothy T. Yuen. ”Securing the Human: A Review of Literature on Broadening Diversity in Cybersecurity Education.” In Proceedings of the Working GroupReports on Innovation and Technology in Computer Science Education.\\nMohammad Q. Azhar, Sajal Bhatia, Greg Gagne, Chadi Kari, Joseph Maguire, Xenia Mountrouidou, Liviana Tudor, David Vosen, and Timothy T. Yuen. Securing the Human: Broadening Diversity in Cybersecurity. In Proceedings of the 2019 ACM Conference on Innovation and Technology in Computer Science Education (ITiCSE ’19). ACM, New York, NY, USA,\\nMohammad Q. Azhar, Janet, Esquirol, BMCC HSI STEM Success Lab, CUNY CUE Conference,2018.\\nMohammad Q Azhar and Elizabeth I Sklar. A study measuring the impact of shared decision-making in a human-robot team. International Journal of Robotics Research, Vol 36, No 5-7 2017.\\nMohammad Q. Azhar and Elizabeth I. Sklar, ”Analysis of empirical results on argumentation-based dialogue to support shared decision making in a human-robot team,” 2016 25th IEEE InternationalSymposium on Robot and Human Interactive Communication (RO-MAN), New York, NY, 2016\\nElizabeth I. Sklar and Mohammad Q. Azhar. Argumentation-based dialogue games for shared control in human-robot systems. Journal of Human-Robot Interaction, Vol 4, No 3: Special Issue on Shared Control, pages 120-148, 2015\\nHonors, Awards and Affiliations\\nBMCC Distinguished Teaching Award, 2021\\nWinner of second place award, “Designing a Virtual Reality (VR) Application for Autistic Children”, BMCC ASD Research Group: Ryan Brandt, Sharna Hossain and Jadgesh Inderjeet, Mentor: Dr. Azhar, 2021 AACC/NSF Community College Innovation Challenge.\\nMATLAB Technical Award, Robocup HomeRobotEDU 2018, Luis Marcano, Treeshan Yeadram, Marco Santana, Mentor: Dr. Azhar\\nBest Paper Award, Sixth International Conference on Human-Agent Interaction (HAI), 2018 for Sklar, E. I., & Azhar, M. Q. (2018, December). Explanation through Argumentation. In Proceedings of the 6th International Conference on Human-Agent Interaction (pp. 277-285). ACM.\\nAdditional Information\\nFaculty Organizer: (Selected)\\n\\nBMCC 1st Virtual Hackathon (Fall 2021)\\nBMCC Virtual Make-A-Thon: Computing for Social Good and Innovation (Summe 2020, Fall 2020, Spring 2021)\\nBMCC 1st Hackathon (2019)\\nBMCC Alexa Make-A-Thon (2019)\\nNational Robotics Competition for K-12 students: Robocup Junior USA, 2018 (Results)\\nFaculty Advisor:\\n\\nBMCC Computer Programming Club (since 2014)\\nCommunity College Programming Contests\\n1st Prize and 3rd prize (2014)\\nBMCC ACM Student Chapter (since 2016)\\nBMCC ACM-W Student Chapter (since 2017)\\nGoogle Student Chapter (since 2020)\\nWiCYS (Women in Cyber Security) Student Chapter (since 2021)\\n \\n\\nBorough of Manhattan Community College\\nThe City University of New York\\n199 Chambers Street\\nNew York, NY 10007\\nDirections\\n(212) 220-8000\\nDirectory\\n\\nMake this website talk\\nNotice of Non-Discrimination\\n\\nBookstore\\nNews\\nEvent Calendar\\nJob Opportunities\\nHuman Resources\\nAdmissions\\nLibrary\\nGive to BMCC\\nAccessibility\\nVirtual Tour\\nAcademic Policies\\nPrivacy Policy\\n\\nInformation for:\\nStudents\\nFaculty & Staff\\nAlumni\\n\\nFacebookTwitterInstagramLinkedInYouTubeTikTok\\n\\nSocial Media Directory\\n\\nCity University of New York\\n', metadata={'source': '../Data/input.md'})]\n"
     ]
    },
    {
     "data": {
      "text/plain": [
       "316"
      ]
     },
     "execution_count": 5,
     "metadata": {},
     "output_type": "execute_result"
    }
   ],
   "source": [
    "\n",
    "import os\n",
    "import sys\n",
    "\n",
    "# Importing document loaders and parsers\n",
    "from langchain_community.document_loaders import DirectoryLoader, TextLoader\n",
    "from langchain_community.document_loaders.generic import GenericLoader\n",
    "\n",
    "\n",
    "# Setting the directory path\n",
    "DIRECTORY_PATH = \"./../Data\"\n",
    "\n",
    "# -------------------------------------------------------------------------------------------------------------\n",
    "# Loading documents from the specified directory\n",
    "\n",
    "# Keyword arguments for text loader\n",
    "text_loader_kwargs = {'autodetect_encoding': True}\n",
    "\n",
    "# Create a DirectoryLoader instance\n",
    "directory_loader = DirectoryLoader(DIRECTORY_PATH, glob=\"./*.md\", loader_cls=TextLoader, loader_kwargs=text_loader_kwargs)\n",
    "\n",
    "# Load documents from the directory\n",
    "directory_documents = directory_loader.load()\n",
    "print(directory_documents)\n",
    "\n",
    "\n",
    "# Want to load code ?\n",
    "# Load\n",
    "from langchain_community.document_loaders.parsers import LanguageParser\n",
    "from langchain_text_splitters import Language\n",
    "\n",
    "repo_path = \"/Users/Chetan/PycharmProjects/langchain\"\n",
    "loader = GenericLoader.from_filesystem(\n",
    "    repo_path + \"/libs/core/langchain_core\",\n",
    "    glob=\"**/*\",\n",
    "    suffixes=[\".py\"],\n",
    "    exclude=[\"**/non-utf8-encoding.py\"],\n",
    "    parser=LanguageParser(language=Language.PYTHON, parser_threshold=500),\n",
    ")\n",
    "documents = loader.load()\n",
    "len(documents)\n",
    "\n",
    "\n"
   ]
  }
 ],
 "metadata": {
  "kernelspec": {
   "display_name": "rag",
   "language": "python",
   "name": "python3"
  },
  "language_info": {
   "codemirror_mode": {
    "name": "ipython",
    "version": 3
   },
   "file_extension": ".py",
   "mimetype": "text/x-python",
   "name": "python",
   "nbconvert_exporter": "python",
   "pygments_lexer": "ipython3",
   "version": "3.11.9"
  }
 },
 "nbformat": 4,
 "nbformat_minor": 2
}
